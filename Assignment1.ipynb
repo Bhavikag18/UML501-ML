{
 "cells": [
  {
   "cell_type": "code",
   "execution_count": 16,
   "id": "a2fedf4a-2bde-408e-9973-d77497b636ee",
   "metadata": {},
   "outputs": [],
   "source": [
    "import numpy as np"
   ]
  },
  {
   "cell_type": "code",
   "execution_count": 17,
   "id": "b4343d74-6e50-4890-8a84-8eefd673db72",
   "metadata": {},
   "outputs": [
    {
     "data": {
      "text/plain": [
       "array([5, 4, 6, 3, 2, 1])"
      ]
     },
     "execution_count": 17,
     "metadata": {},
     "output_type": "execute_result"
    }
   ],
   "source": [
    "## Ques -01 Reverse the NumPy array: arr = np.array([1, 2, 3, 6, 4, 5])\n",
    "arr = np.array([1,2,3,6,4,5])\n",
    "reversed_arr = arr[::-1]\n",
    "reversed_arr"
   ]
  },
  {
   "cell_type": "code",
   "execution_count": 18,
   "id": "cc33987e-29be-4390-af07-dc9f839cca86",
   "metadata": {},
   "outputs": [
    {
     "data": {
      "text/plain": [
       "array([1, 2, 3, 2, 4, 5, 1, 2, 3])"
      ]
     },
     "execution_count": 18,
     "metadata": {},
     "output_type": "execute_result"
    }
   ],
   "source": [
    "# Ques -01(b) Flatten the NumPy arr: array1 = np.array([[1, 2, 3], [2, 4, 5], [1, 2, 3]]) using any two\n",
    "            #NumPy in-built methods\n",
    "\n",
    "array1 = np.array([[1, 2, 3], [2, 4, 5], [1, 2, 3]])\n",
    "flatten1 = array1.flatten()\n",
    "flatten1"
   ]
  },
  {
   "cell_type": "code",
   "execution_count": 19,
   "id": "d609dc23-a692-451f-bd59-0e633f3ab63c",
   "metadata": {},
   "outputs": [
    {
     "data": {
      "text/plain": [
       "array([1, 2, 3, 2, 4, 5, 1, 2, 3])"
      ]
     },
     "execution_count": 19,
     "metadata": {},
     "output_type": "execute_result"
    }
   ],
   "source": [
    "flatten2 = array1.ravel()\n",
    "flatten2"
   ]
  },
  {
   "cell_type": "code",
   "execution_count": 20,
   "id": "a4dfdb6e-aceb-44d4-b8c3-eee01407c22d",
   "metadata": {},
   "outputs": [
    {
     "name": "stdout",
     "output_type": "stream",
     "text": [
      "True\n"
     ]
    }
   ],
   "source": [
    "## Ques-01 (c)\n",
    "arr1 = np.array([[1, 2], [3, 4]])\n",
    "arr2 = np.array([[1, 2], [3, 4]])\n",
    "\n",
    "result = np.array_equal(arr1, arr2)\n",
    "print(result)"
   ]
  },
  {
   "cell_type": "code",
   "execution_count": 21,
   "id": "2e6859af-6eac-460c-8de7-12e4e5812f04",
   "metadata": {},
   "outputs": [
    {
     "name": "stdout",
     "output_type": "stream",
     "text": [
      "Most frequent value in x: 1\n",
      "Indices: [0 5 7 8 9]\n"
     ]
    }
   ],
   "source": [
    "## Ques-01 (d)\n",
    "x = np.array([1,2,3,4,5,1,2,1,1,1])\n",
    "\n",
    "values, counts = np.unique(x, return_counts=True)\n",
    "most_freq_val_x = values[np.argmax(counts)]\n",
    "\n",
    "indices_x = np.where(x == most_freq_val_x)[0]\n",
    "\n",
    "print(\"Most frequent value in x:\", most_freq_val_x)\n",
    "print(\"Indices:\", indices_x)"
   ]
  },
  {
   "cell_type": "code",
   "execution_count": 22,
   "id": "c4102ea5-c52a-4868-9871-c31d0710c214",
   "metadata": {},
   "outputs": [
    {
     "name": "stdout",
     "output_type": "stream",
     "text": [
      "Sum of all elements: 45\n",
      "Sum of all elements row-wise:\n",
      " [[14]\n",
      " [16]\n",
      " [15]]\n",
      "Sum of all elements column-wise:\n",
      " [[20  9 16]]\n"
     ]
    }
   ],
   "source": [
    "## Ques-01 (e)\n",
    "\n",
    "gfg = np.matrix('[4, 1, 9; 12, 3, 1; 4, 5, 6]')\n",
    "\n",
    "total_sum = gfg.sum()\n",
    "print(\"Sum of all elements:\", total_sum)\n",
    "\n",
    "row_sum = gfg.sum(axis=1)\n",
    "print(\"Sum of all elements row-wise:\\n\", row_sum)\n",
    "\n",
    "col_sum = gfg.sum(axis=0)\n",
    "print(\"Sum of all elements column-wise:\\n\", col_sum)\n"
   ]
  },
  {
   "cell_type": "code",
   "execution_count": 23,
   "id": "b9b75ff9-eff6-4f0f-9813-2bd062b87c91",
   "metadata": {},
   "outputs": [
    {
     "name": "stdout",
     "output_type": "stream",
     "text": [
      "i. Sum of diagonal elements: 176\n",
      "ii. Eigenvalues of matrix: [98.16835147 28.097044   49.73460452]\n",
      "iii. Eigenvectors of matrix:\n",
      " [[ 0.4574917   0.34637121 -0.15017693]\n",
      " [ 0.28447814 -0.72784061 -0.4852124 ]\n",
      " [ 0.84248058  0.59184038  0.8614034 ]]\n",
      "iv. Inverse of matrix:\n",
      " [[ 0.02404141 -0.00911212 -0.00444671]\n",
      " [-0.01667882  0.02966905  0.0024785 ]\n",
      " [ 0.00631287 -0.01603732  0.01217379]]\n",
      "v. Determinant of matrix: 137180.0000000001\n"
     ]
    }
   ],
   "source": [
    "## Ques-01 (f)\n",
    "n_array = np.array([[55, 25, 15],\n",
    "                    [30, 44, 2],\n",
    "                    [11, 45, 77]])\n",
    "\n",
    "# i. Sum of diagonal elements\n",
    "diagonal_sum = np.trace(n_array)\n",
    "print(\"i. Sum of diagonal elements:\", diagonal_sum)\n",
    "\n",
    "# ii. Eigenvalues of the matrix\n",
    "eigenvalues, eigenvectors = np.linalg.eig(n_array)\n",
    "print(\"ii. Eigenvalues of matrix:\", eigenvalues)\n",
    "\n",
    "# iii. Eigenvectors of the matrix\n",
    "print(\"iii. Eigenvectors of matrix:\\n\", eigenvectors)\n",
    "\n",
    "# iv. Inverse of matrix\n",
    "inverse_matrix = np.linalg.inv(n_array)\n",
    "print(\"iv. Inverse of matrix:\\n\", inverse_matrix)\n",
    "\n",
    "# v. Determinant of matrix\n",
    "determinant = np.linalg.det(n_array)\n",
    "print(\"v. Determinant of matrix:\", determinant)\n"
   ]
  },
  {
   "cell_type": "code",
   "execution_count": 24,
   "id": "307180fc-35c6-4b49-ba33-13ca8d5616b6",
   "metadata": {},
   "outputs": [
    {
     "name": "stdout",
     "output_type": "stream",
     "text": [
      "i. Product of p1 and q1:\n",
      " [[16 19]\n",
      " [26 31]]\n",
      "i. Covariance matrix:\n",
      " [[0.66666667 1.        ]\n",
      " [1.         1.66666667]]\n"
     ]
    }
   ],
   "source": [
    "## Ques-01 (g)\n",
    "p1 = np.array([[1, 2], [2, 3]])\n",
    "q1 = np.array([[4, 5], [6, 7]])\n",
    "\n",
    "product1 = np.dot(p1, q1)\n",
    "print(\"i. Product of p1 and q1:\\n\", product1)\n",
    "\n",
    "covariance1 = np.cov(p1.flatten(), q1.flatten())\n",
    "print(\"i. Covariance matrix:\\n\", covariance1)\n"
   ]
  },
  {
   "cell_type": "code",
   "execution_count": 25,
   "id": "4e9c5161-7c27-423d-9fca-561153f39413",
   "metadata": {},
   "outputs": [
    {
     "name": "stdout",
     "output_type": "stream",
     "text": [
      "ii. Product of p2 and q2:\n",
      " [[16 19  5]\n",
      " [26 31  8]\n",
      " [46 55 14]]\n",
      "ii. Covariance matrix:\n",
      " [[2.16666667 0.23333333]\n",
      " [0.23333333 5.36666667]]\n"
     ]
    }
   ],
   "source": [
    "p2 = np.array([[1, 2], [2, 3], [4, 5]])  # Shape: (3x2)\n",
    "q2 = np.array([[4, 5, 1], [6, 7, 2]])    # Shape: (2x3)\n",
    "\n",
    "product2 = np.dot(p2, q2)\n",
    "print(\"ii. Product of p2 and q2:\\n\", product2)\n",
    "\n",
    "covariance2 = np.cov(p2.flatten(), q2.flatten())\n",
    "print(\"ii. Covariance matrix:\\n\", covariance2)\n"
   ]
  },
  {
   "cell_type": "code",
   "execution_count": 26,
   "id": "93d9e13a-d9d0-4268-b677-2afec428138b",
   "metadata": {},
   "outputs": [
    {
     "name": "stdout",
     "output_type": "stream",
     "text": [
      "Inner Product:\n",
      " [[17 52]\n",
      " [13 62]]\n",
      "Outer Product:\n",
      " [[ 2 10  0 10 20  6]\n",
      " [ 3 15  0 15 30  9]\n",
      " [ 4 20  0 20 40 12]\n",
      " [ 3 15  0 15 30  9]\n",
      " [ 2 10  0 10 20  6]\n",
      " [ 9 45  0 45 90 27]]\n",
      "Cartesian Product:\n",
      " [[ 2  3  4  1  5  0]\n",
      " [ 2  3  4  5 10  3]\n",
      " [ 3  2  9  1  5  0]\n",
      " [ 3  2  9  5 10  3]]\n"
     ]
    }
   ],
   "source": [
    "## Ques-01 (h)\n",
    "\n",
    "x = np.array([[2, 3, 4], [3, 2, 9]])\n",
    "y = np.array([[1, 5, 0], [5, 10, 3]])\n",
    "\n",
    "inner_product = np.inner(x, y)\n",
    "print(\"Inner Product:\\n\", inner_product)\n",
    "\n",
    "outer_product = np.outer(x.flatten(), y.flatten())\n",
    "print(\"Outer Product:\\n\", outer_product)\n",
    "\n",
    "from itertools import product\n",
    "\n",
    "# Cartesian product of rows from x and y\n",
    "cartesian_product = np.array([np.concatenate([a, b]) for a, b in product(x, y)])\n",
    "print(\"Cartesian Product:\\n\", cartesian_product)"
   ]
  },
  {
   "cell_type": "code",
   "execution_count": 27,
   "id": "273e0410-35ee-4ca9-9139-a34e311b94f6",
   "metadata": {},
   "outputs": [
    {
     "name": "stdout",
     "output_type": "stream",
     "text": [
      "Absolute:\n",
      " [[1 2 3]\n",
      " [4 5 6]]\n",
      "25th percentile: -3.5, 50th: -0.5, 75th: 2.5\n",
      "25th Percentile (columns): [-2.75 -0.25 -3.75]\n",
      "50th Percentile (columns): [-1.5  1.5 -1.5]\n",
      "75th Percentile (columns): [-0.25  3.25  0.75]\n",
      "25th Percentile (rows): [-0.5 -5. ]\n",
      "50th Percentile (rows): [ 1. -4.]\n",
      "75th Percentile (rows): [2.  0.5]\n",
      "Mean (flat): -0.5\n",
      "Median (flat): -0.5\n",
      "Std Dev (flat): 3.8622100754188224\n",
      "Mean (columns): [-1.5  1.5 -1.5]\n",
      "Median (columns): [-1.5  1.5 -1.5]\n",
      "Std Dev (columns): [2.5 3.5 4.5]\n",
      "Mean (rows): [ 0.66666667 -1.66666667]\n",
      "Median (rows): [ 1. -4.]\n",
      "Std Dev (rows): [2.05480467 4.78423336]\n"
     ]
    }
   ],
   "source": [
    "## Ques-02\n",
    "array = np.array([[1, -2, 3], [-4, 5, -6]])\n",
    "\n",
    "# i. Element-wise absolute value\n",
    "abs_array = np.abs(array)\n",
    "print(\"Absolute:\\n\", abs_array)\n",
    "\n",
    "# ii. Percentiles (25th, 50th, 75th)\n",
    "flattened = array.flatten()\n",
    "p25 = np.percentile(flattened, 25)\n",
    "p50 = np.percentile(flattened, 50)\n",
    "p75 = np.percentile(flattened, 75)\n",
    "print(f\"25th percentile: {p25}, 50th: {p50}, 75th: {p75}\")\n",
    "\n",
    "# Percentile for each column\n",
    "print(\"25th Percentile (columns):\", np.percentile(array, 25, axis=0))\n",
    "print(\"50th Percentile (columns):\", np.percentile(array, 50, axis=0))\n",
    "print(\"75th Percentile (columns):\", np.percentile(array, 75, axis=0))\n",
    "\n",
    "# Percentile for each row\n",
    "print(\"25th Percentile (rows):\", np.percentile(array, 25, axis=1))\n",
    "print(\"50th Percentile (rows):\", np.percentile(array, 50, axis=1))\n",
    "print(\"75th Percentile (rows):\", np.percentile(array, 75, axis=1))\n",
    "\n",
    "# iii. Mean, Median, Std Dev\n",
    "print(\"Mean (flat):\", np.mean(flattened))\n",
    "print(\"Median (flat):\", np.median(flattened))\n",
    "print(\"Std Dev (flat):\", np.std(flattened))\n",
    "\n",
    "print(\"Mean (columns):\", np.mean(array, axis=0))\n",
    "print(\"Median (columns):\", np.median(array, axis=0))\n",
    "print(\"Std Dev (columns):\", np.std(array, axis=0))\n",
    "\n",
    "print(\"Mean (rows):\", np.mean(array, axis=1))\n",
    "print(\"Median (rows):\", np.median(array, axis=1))\n",
    "print(\"Std Dev (rows):\", np.std(array, axis=1))\n",
    "\n"
   ]
  },
  {
   "cell_type": "code",
   "execution_count": 28,
   "id": "97fff6a4-2127-4de4-a8ee-c7e130097799",
   "metadata": {},
   "outputs": [
    {
     "name": "stdout",
     "output_type": "stream",
     "text": [
      "Floor: [-2. -2. -1.  0.  1.  1.  3.]\n",
      "Ceiling: [-1. -1. -0.  1.  2.  2.  3.]\n",
      "Truncated: [-1. -1. -0.  0.  1.  1.  3.]\n",
      "Rounded: [-2. -2. -0.  0.  2.  2.  3.]\n"
     ]
    }
   ],
   "source": [
    "a = np.array([-1.8, -1.6, -0.5, 0.5, 1.6, 1.8, 3.0])\n",
    "\n",
    "# Floor, Ceiling, Truncated, Rounded\n",
    "print(\"Floor:\", np.floor(a))\n",
    "print(\"Ceiling:\", np.ceil(a))\n",
    "print(\"Truncated:\", np.trunc(a))\n",
    "print(\"Rounded:\", np.round(a))\n"
   ]
  },
  {
   "cell_type": "code",
   "execution_count": 29,
   "id": "d27447f3-7def-4c13-9778-15a818fc84f6",
   "metadata": {},
   "outputs": [
    {
     "name": "stdout",
     "output_type": "stream",
     "text": [
      "Sorted array: [ 10  16  16  52  54  62 453]\n",
      "Indices of sorted array: [0 3 4 1 5 2 6]\n",
      "4 smallest elements: [10 16 16 52]\n",
      "5 largest elements: [ 16  52  54  62 453]\n"
     ]
    }
   ],
   "source": [
    "array = np.array([10, 52, 62, 16, 16, 54, 453])\n",
    "\n",
    "# i. Sorted array\n",
    "sorted_array = np.sort(array)\n",
    "\n",
    "# ii. Indices of sorted array\n",
    "sorted_indices = np.argsort(array)\n",
    "\n",
    "# iii. 4 smallest elements\n",
    "smallest_4 = np.sort(array)[:4]\n",
    "\n",
    "# iv. 5 largest elements\n",
    "largest_5 = np.sort(array)[-5:]\n",
    "\n",
    "print(\"Sorted array:\", sorted_array)\n",
    "print(\"Indices of sorted array:\", sorted_indices)\n",
    "print(\"4 smallest elements:\", smallest_4)\n",
    "print(\"5 largest elements:\", largest_5)\n"
   ]
  },
  {
   "cell_type": "code",
   "execution_count": 30,
   "id": "99fd8025-a51c-48d5-a7ee-d5356aeaf45f",
   "metadata": {},
   "outputs": [
    {
     "name": "stdout",
     "output_type": "stream",
     "text": [
      "Integer elements only: [1. 2. 3. 2.]\n",
      "Float elements only: [1.2 2.2]\n"
     ]
    }
   ],
   "source": [
    "array = np.array([1.0, 1.2, 2.2, 2.0, 3.0, 2.0])\n",
    "\n",
    "# i. Integer elements only\n",
    "integers_only = array[array == array.astype(int)]\n",
    "\n",
    "# ii. Float elements only (not whole numbers)\n",
    "floats_only = array[array != array.astype(int)]\n",
    "\n",
    "print(\"Integer elements only:\", integers_only)\n",
    "print(\"Float elements only:\", floats_only)\n"
   ]
  },
  {
   "cell_type": "code",
   "execution_count": 32,
   "id": "ace7ebfd-f695-4a1a-8b7f-647fdb0f0d55",
   "metadata": {},
   "outputs": [
    {
     "name": "stdout",
     "output_type": "stream",
     "text": [
      "gray_image.jpg is a Grayscale image. Saved as 'grayscale_image.txt'\n",
      "color_image.jpg is an RGB image. Saved as 'rgb_image.txt'\n",
      "\n",
      "--- Loaded from grayscale_image.txt ---\n",
      "[[ 0  0  0 ... 48 48 49]\n",
      " [ 0  0  0 ... 48 49 49]\n",
      " [ 0  0  1 ... 49 49 50]\n",
      " ...\n",
      " [48 48 49 ... 96 97 97]\n",
      " [48 49 49 ... 97 97 97]\n",
      " [49 49 50 ... 97 97 98]]\n",
      "\n",
      "--- Loaded from rgb_image.txt ---\n",
      "[[  1   1   1]\n",
      " [  1   1   1]\n",
      " [  3   1   2]\n",
      " ...\n",
      " [193 197 196]\n",
      " [196 198 197]\n",
      " [197 199 198]]\n"
     ]
    }
   ],
   "source": [
    "from PIL import Image\n",
    "import numpy as np\n",
    "\n",
    "def img_to_array(path):\n",
    "    img = Image.open(path)\n",
    "    arr = np.array(img)\n",
    "    if len(arr.shape) == 2:\n",
    "        np.savetxt(\"grayscale_image.txt\", arr, fmt='%d')\n",
    "        print(f\"{path} is a Grayscale image. Saved as 'grayscale_image.txt'\")\n",
    "    else:\n",
    "        reshaped = arr.reshape(-1, arr.shape[-1])\n",
    "        np.savetxt(\"rgb_image.txt\", reshaped, fmt='%d')\n",
    "        print(f\"{path} is an RGB image. Saved as 'rgb_image.txt'\")\n",
    "\n",
    "img_to_array(\"gray_image.jpg\")\n",
    "img_to_array(\"color_image.jpg\")\n",
    "\n",
    "print(\"\\n--- Loaded from grayscale_image.txt ---\")\n",
    "gray = np.loadtxt(\"grayscale_image.txt\", dtype=int)\n",
    "print(gray)\n",
    "\n",
    "print(\"\\n--- Loaded from rgb_image.txt ---\")\n",
    "rgb = np.loadtxt(\"rgb_image.txt\", dtype=int).reshape(-1, 3)\n",
    "print(rgb)"
   ]
  },
  {
   "cell_type": "code",
   "execution_count": null,
   "id": "e8dc4737-b006-4979-bcb8-69831291745a",
   "metadata": {},
   "outputs": [],
   "source": []
  }
 ],
 "metadata": {
  "kernelspec": {
   "display_name": "Python 3 (ipykernel)",
   "language": "python",
   "name": "python3"
  },
  "language_info": {
   "codemirror_mode": {
    "name": "ipython",
    "version": 3
   },
   "file_extension": ".py",
   "mimetype": "text/x-python",
   "name": "python",
   "nbconvert_exporter": "python",
   "pygments_lexer": "ipython3",
   "version": "3.13.5"
  }
 },
 "nbformat": 4,
 "nbformat_minor": 5
}
